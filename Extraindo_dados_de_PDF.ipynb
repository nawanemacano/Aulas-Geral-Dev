{
  "nbformat": 4,
  "nbformat_minor": 0,
  "metadata": {
    "colab": {
      "provenance": [],
      "authorship_tag": "ABX9TyMH2aujlKRc9j2fj9CxiF5X",
      "include_colab_link": true
    },
    "kernelspec": {
      "name": "python3",
      "display_name": "Python 3"
    },
    "language_info": {
      "name": "python"
    }
  },
  "cells": [
    {
      "cell_type": "markdown",
      "metadata": {
        "id": "view-in-github",
        "colab_type": "text"
      },
      "source": [
        "<a href=\"https://colab.research.google.com/github/nawanemacano/Aulas-Geral-Dev/blob/main/Extraindo_dados_de_PDF.ipynb\" target=\"_parent\"><img src=\"https://colab.research.google.com/assets/colab-badge.svg\" alt=\"Open In Colab\"/></a>"
      ]
    },
    {
      "cell_type": "code",
      "execution_count": 1,
      "metadata": {
        "colab": {
          "base_uri": "https://localhost:8080/"
        },
        "id": "R-Fy6L64Slsh",
        "outputId": "17efd1b1-ba6c-4636-8cc8-aba4c98b5fb6"
      },
      "outputs": [
        {
          "output_type": "stream",
          "name": "stdout",
          "text": [
            "Collecting pdfplumber\n",
            "  Downloading pdfplumber-0.10.4-py3-none-any.whl (54 kB)\n",
            "\u001b[?25l     \u001b[90m━━━━━━━━━━━━━━━━━━━━━━━━━━━━━━━━━━━━━━━━\u001b[0m \u001b[32m0.0/54.7 kB\u001b[0m \u001b[31m?\u001b[0m eta \u001b[36m-:--:--\u001b[0m\r\u001b[2K     \u001b[91m━━━━━━━━━━━━━━━━━━━━━━━━━━━━━━━━━━━━━\u001b[0m\u001b[90m╺\u001b[0m\u001b[90m━━\u001b[0m \u001b[32m51.2/54.7 kB\u001b[0m \u001b[31m1.2 MB/s\u001b[0m eta \u001b[36m0:00:01\u001b[0m\r\u001b[2K     \u001b[90m━━━━━━━━━━━━━━━━━━━━━━━━━━━━━━━━━━━━━━━━\u001b[0m \u001b[32m54.7/54.7 kB\u001b[0m \u001b[31m1.1 MB/s\u001b[0m eta \u001b[36m0:00:00\u001b[0m\n",
            "\u001b[?25hCollecting pdfminer.six==20221105 (from pdfplumber)\n",
            "  Downloading pdfminer.six-20221105-py3-none-any.whl (5.6 MB)\n",
            "\u001b[2K     \u001b[90m━━━━━━━━━━━━━━━━━━━━━━━━━━━━━━━━━━━━━━━━\u001b[0m \u001b[32m5.6/5.6 MB\u001b[0m \u001b[31m26.8 MB/s\u001b[0m eta \u001b[36m0:00:00\u001b[0m\n",
            "\u001b[?25hRequirement already satisfied: Pillow>=9.1 in /usr/local/lib/python3.10/dist-packages (from pdfplumber) (9.4.0)\n",
            "Collecting pypdfium2>=4.18.0 (from pdfplumber)\n",
            "  Downloading pypdfium2-4.27.0-py3-none-manylinux_2_17_x86_64.manylinux2014_x86_64.whl (2.8 MB)\n",
            "\u001b[2K     \u001b[90m━━━━━━━━━━━━━━━━━━━━━━━━━━━━━━━━━━━━━━━━\u001b[0m \u001b[32m2.8/2.8 MB\u001b[0m \u001b[31m53.6 MB/s\u001b[0m eta \u001b[36m0:00:00\u001b[0m\n",
            "\u001b[?25hRequirement already satisfied: charset-normalizer>=2.0.0 in /usr/local/lib/python3.10/dist-packages (from pdfminer.six==20221105->pdfplumber) (3.3.2)\n",
            "Requirement already satisfied: cryptography>=36.0.0 in /usr/local/lib/python3.10/dist-packages (from pdfminer.six==20221105->pdfplumber) (42.0.2)\n",
            "Requirement already satisfied: cffi>=1.12 in /usr/local/lib/python3.10/dist-packages (from cryptography>=36.0.0->pdfminer.six==20221105->pdfplumber) (1.16.0)\n",
            "Requirement already satisfied: pycparser in /usr/local/lib/python3.10/dist-packages (from cffi>=1.12->cryptography>=36.0.0->pdfminer.six==20221105->pdfplumber) (2.21)\n",
            "Installing collected packages: pypdfium2, pdfminer.six, pdfplumber\n",
            "Successfully installed pdfminer.six-20221105 pdfplumber-0.10.4 pypdfium2-4.27.0\n"
          ]
        }
      ],
      "source": [
        "# instalando a biblioteca\n",
        "!pip install pdfplumber"
      ]
    },
    {
      "cell_type": "code",
      "source": [
        "# importando os pacotes necessários\n",
        "import pdfplumber\n",
        "import os\n",
        "from google.colab import drive"
      ],
      "metadata": {
        "id": "cdhvEUvXgqWs"
      },
      "execution_count": 27,
      "outputs": []
    },
    {
      "cell_type": "markdown",
      "source": [
        "**PDFPUMBLER**\n",
        "\n",
        "Em nossa rotina de trabalho é muito comum termos que lidar com arquivos no formato PDF. Criamos, editamos, acessamos e compartilhamos arquivos nesse formato, que muitas vezes, fazem parte de nossas atividades primordiais na empresa.\n",
        "Com essa biblioteca de Python, será possível facilitar esse processo. A biblioteca PDF Plumber possui uma grande gama de funções e argumentos, e aqui nós vamos começar a nos aventurar com essas funções.\n",
        "\n",
        "**OS**\n",
        "\n",
        "A biblioteca OS nos dá a possibilidade de interagir com o Sistema Operacional através do Python. Com ela, podemos acessar, modificar, mover, apagar aquivos, entre muitas outras funçoes.\n",
        "\n",
        "**GOOGLE.COLAB E DRIVE**\n",
        "\n",
        "será utilizado para extrair documentos."
      ],
      "metadata": {
        "id": "I5RF-zWFgvIv"
      }
    },
    {
      "cell_type": "code",
      "source": [
        "# montando o drive\n",
        "drive.mount('/content/gdrive')"
      ],
      "metadata": {
        "colab": {
          "base_uri": "https://localhost:8080/"
        },
        "id": "FxFhNkV-hfvr",
        "outputId": "a23b2b6a-9c7a-4723-8a93-5c5fada3bbae"
      },
      "execution_count": 28,
      "outputs": [
        {
          "output_type": "stream",
          "name": "stdout",
          "text": [
            "Drive already mounted at /content/gdrive; to attempt to forcibly remount, call drive.mount(\"/content/gdrive\", force_remount=True).\n"
          ]
        }
      ]
    },
    {
      "cell_type": "code",
      "source": [
        "# abrindo o documento\n",
        "pdf = pdfplumber.open('/content/modelo_de_relatorio.pdf')"
      ],
      "metadata": {
        "id": "1iMZ5j8wiBVc"
      },
      "execution_count": 29,
      "outputs": []
    },
    {
      "cell_type": "code",
      "source": [
        "# ver o número de páginas do pdf:\n",
        "pdf.pages"
      ],
      "metadata": {
        "colab": {
          "base_uri": "https://localhost:8080/"
        },
        "id": "X8slHszuiKvy",
        "outputId": "121ab5bf-a5d9-45b9-c1de-aa8baa78bff0"
      },
      "execution_count": 30,
      "outputs": [
        {
          "output_type": "execute_result",
          "data": {
            "text/plain": [
              "[<Page:1>, <Page:2>, <Page:3>]"
            ]
          },
          "metadata": {},
          "execution_count": 30
        }
      ]
    },
    {
      "cell_type": "code",
      "source": [
        "# selecionando uma página\n",
        "page = pdf.pages[0]\n",
        "page"
      ],
      "metadata": {
        "colab": {
          "base_uri": "https://localhost:8080/"
        },
        "id": "N2VjHs5OiN0m",
        "outputId": "85429bbf-1138-4fba-c746-13475bcef8a5"
      },
      "execution_count": 33,
      "outputs": [
        {
          "output_type": "execute_result",
          "data": {
            "text/plain": [
              "<Page:1>"
            ]
          },
          "metadata": {},
          "execution_count": 33
        }
      ]
    },
    {
      "cell_type": "code",
      "source": [
        "# coletando os metadados do arquivo\n",
        "pdf.metadata"
      ],
      "metadata": {
        "colab": {
          "base_uri": "https://localhost:8080/"
        },
        "id": "wIvMQrC-iRgm",
        "outputId": "74e04342-a940-4039-803f-0cf9d3ec0a7b"
      },
      "execution_count": 34,
      "outputs": [
        {
          "output_type": "execute_result",
          "data": {
            "text/plain": [
              "{'AssetID': 'TF10002026',\n",
              " 'Author': 'Carlos Melo',\n",
              " 'Comments': '',\n",
              " 'Company': '',\n",
              " 'CreationDate': 'D:20200831180053Z',\n",
              " 'Creator': 'Acrobat PDFMaker 20 for Word',\n",
              " 'Keywords': 'report, vendas, sigmoidal, diário, relatório',\n",
              " 'ModDate': 'D:20240220171246',\n",
              " 'Producer': 'HexaPDF version 0.37.1',\n",
              " 'SourceModified': 'D:20200831180051',\n",
              " 'Subject': 'Template para relatório diário',\n",
              " 'Title': 'Relatório Sigmoidal'}"
            ]
          },
          "metadata": {},
          "execution_count": 34
        }
      ]
    },
    {
      "cell_type": "code",
      "source": [
        "# extraindo o texto do arquivo\n",
        "text = page.extract_text()\n",
        "print(text)\n"
      ],
      "metadata": {
        "colab": {
          "base_uri": "https://localhost:8080/"
        },
        "id": "E0_YeGzviX0v",
        "outputId": "dccf3369-c0b2-43d9-f965-0bc07ef7091e"
      },
      "execution_count": 35,
      "outputs": [
        {
          "output_type": "stream",
          "name": "stdout",
          "text": [
            "SIGMOIDAL\n",
            "Relatório Diário\n",
            "Data: 10/08/2020\n",
            "RECEITA: R$ 1.397,00\n",
            "DADOS ATUALIZADOS POR CARLOS MELO\n",
            "Visitantes: 1367\n",
            "A quantidade de visitantes diz respeito a visitantes únicos visitando qualquer\n",
            "página do domínio ou subdomínio sigmoidal.ai. Compreende, então, cursos,\n",
            "blogs e landing pages.\n",
            "Inscritos: 33\n",
            "É considerado aqui o número de leads gerados por meio de cadastro\n",
            "voluntário nos formulários do cabeçalho, rodapé ou materiais ricos (como\n",
            "eBook, infográficos, entre outros).\n",
            "Assinantes: 6\n",
            "Clientes assinantes da Escola de Data Science, considerando-se o plano\n",
            "renovável de assinatura mensal.\n",
            "Nawane Farias - nawaneffarias@yahoo.com.br - IP: 190.102.46.144\n"
          ]
        }
      ]
    },
    {
      "cell_type": "code",
      "source": [
        "# extraindo uma linha exata\n",
        "\n",
        "page.extract_text().split(\"\\n\")[3]"
      ],
      "metadata": {
        "colab": {
          "base_uri": "https://localhost:8080/",
          "height": 35
        },
        "id": "melR3UIyiawJ",
        "outputId": "c7bb4968-67f3-446c-d917-70e312e7e04f"
      },
      "execution_count": 37,
      "outputs": [
        {
          "output_type": "execute_result",
          "data": {
            "text/plain": [
              "'RECEITA: R$ 1.397,00'"
            ],
            "application/vnd.google.colaboratory.intrinsic+json": {
              "type": "string"
            }
          },
          "metadata": {},
          "execution_count": 37
        }
      ]
    },
    {
      "cell_type": "code",
      "source": [
        "page.extract_text().split(\"\\n\")[3].split(\"R$ \")[1].strip()"
      ],
      "metadata": {
        "colab": {
          "base_uri": "https://localhost:8080/",
          "height": 35
        },
        "id": "LMvhUJtHlWBx",
        "outputId": "6e890190-947f-4f65-8bfb-c8c580285282"
      },
      "execution_count": 38,
      "outputs": [
        {
          "output_type": "execute_result",
          "data": {
            "text/plain": [
              "'1.397,00'"
            ],
            "application/vnd.google.colaboratory.intrinsic+json": {
              "type": "string"
            }
          },
          "metadata": {},
          "execution_count": 38
        }
      ]
    },
    {
      "cell_type": "markdown",
      "source": [
        "**ENTENDENDO TERMOS**\n",
        "\n",
        "- Split: permite dividir uma string em várias partes com base em um separador específico\n",
        "\n",
        "- Strip: retorna a string resultante após a remoção do início e do final da string s de todos os caracteres em BRANCO\n",
        "\n"
      ],
      "metadata": {
        "id": "wVkxVez-lzaI"
      }
    }
  ]
}