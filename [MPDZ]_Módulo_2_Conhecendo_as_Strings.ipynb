{
  "nbformat": 4,
  "nbformat_minor": 0,
  "metadata": {
    "colab": {
      "provenance": [],
      "include_colab_link": true
    },
    "kernelspec": {
      "name": "python3",
      "display_name": "Python 3"
    }
  },
  "cells": [
    {
      "cell_type": "markdown",
      "metadata": {
        "id": "view-in-github",
        "colab_type": "text"
      },
      "source": [
        "<a href=\"https://colab.research.google.com/github/nawanemacano/Aulas-Geral-Dev/blob/main/%5BMPDZ%5D_M%C3%B3dulo_2_Conhecendo_as_Strings.ipynb\" target=\"_parent\"><img src=\"https://colab.research.google.com/assets/colab-badge.svg\" alt=\"Open In Colab\"/></a>"
      ]
    },
    {
      "cell_type": "markdown",
      "metadata": {
        "id": "RG92OcGC1bSH"
      },
      "source": [
        "<img alt=\"Colaboratory logo\" width=\"15%\" src=\"https://raw.githubusercontent.com/carlosfab/escola-data-science/master/img/novo_logo_bg_claro.png\">\n",
        "\n",
        "\n",
        "\n",
        "## Conhecendo as *Strings*\n",
        "\n",
        "Nesta aula conheceremos as *strings*, que são uma sequência de caracteres como números, letras e símbolos.\n",
        "\n",
        "\n",
        "<center><img width=\"50%\" src=\"https://image.freepik.com/free-photo/words-letter-made-with-wooden-cubes-brown-desk_23-2148101481.jpg\n",
        "\"></center>"
      ]
    },
    {
      "cell_type": "markdown",
      "metadata": {
        "id": "CkHnujC02HJh"
      },
      "source": [
        "Strings são caracteres declarados entre aspas (simples ou duplas), sendo que esses caracteres podem ser símbolos, números ou letras.\n",
        "\n",
        "Operações ou manipulações de *strings* são muito comuns, e com frequência você irá precisar trabalhá-las em seus projetos de *Data Science*. Vale ressaltar que o Python mostra o tipo *string* como sendo `str`:"
      ]
    },
    {
      "cell_type": "code",
      "metadata": {
        "id": "AB9azh_H3Hkl"
      },
      "source": [
        "# verificando o tipo\n",
        "type(\"Carlos Melo\")"
      ],
      "execution_count": null,
      "outputs": []
    },
    {
      "cell_type": "code",
      "source": [
        "print(\"Carlos\" + \"Melo\" + 3)"
      ],
      "metadata": {
        "id": "V2Ny2acNIFiN"
      },
      "execution_count": null,
      "outputs": []
    },
    {
      "cell_type": "markdown",
      "metadata": {
        "id": "uWZ8wBre3Jk_"
      },
      "source": [
        "Para imprimir *strings*, eu informo as mesmas dentro da função `print()`."
      ]
    },
    {
      "cell_type": "code",
      "metadata": {
        "id": "8hg8UaLYkycP"
      },
      "source": [
        "print(nome, 36.5)"
      ],
      "execution_count": null,
      "outputs": []
    },
    {
      "cell_type": "code",
      "metadata": {
        "id": "i7fXHlKz3vS6"
      },
      "source": [
        "# associando stings às variáveis\n",
        "nome = \"Carlos\"\n",
        "sobrenome = \"Melo\"\n",
        "sufixo = \"Junior\"\n",
        "profissao = \"Piloto\"\n",
        "\n",
        "# imprimir nome completo\n",
        "print(\"Nome completo:\")\n",
        "print(nome, sobrenome, sufixo)\n",
        "\n",
        "# imprimir profissão\n",
        "print(\"Sua profissão é\", profissao + \".\")"
      ],
      "execution_count": null,
      "outputs": []
    },
    {
      "cell_type": "markdown",
      "metadata": {
        "id": "YP3MDpvp4BUO"
      },
      "source": [
        "É possível acessar os caracteres individuais dentro de uma *string*. Para isso, basta informar a posição desejada entre colchetes.\n",
        "\n",
        "**Lembre-se sempre que a linguagem Python (assim como a maioria) começa com uma indexação em 0.** Veja como as posições da *string* `Carlos` estão distribuidas:\n",
        "\n",
        "| **0** | **1** | **2** | **3** | **4** | **5** |\n",
        "|:-----:|:-----:|:-----:|:-----:|:-----:|:-----:|\n",
        "| C     | a     | r     | l     | o     | s     |\n",
        "\n",
        "Uma dica, para acessar a última letra de uma *string* é só colocar `[-1]` ao final da mesma.\n"
      ]
    },
    {
      "cell_type": "code",
      "metadata": {
        "id": "SomdfCeS5G_-"
      },
      "source": [
        "# criando a variável\n",
        "nome = \"Carlos\"\n",
        "\n",
        "# ver qual é a primeira letra da variável `nome`\n",
        "nome[0]"
      ],
      "execution_count": null,
      "outputs": []
    },
    {
      "cell_type": "code",
      "metadata": {
        "id": "1GLcSOmw5Tnc"
      },
      "source": [
        "# ver qual a última letra da variável `nome`\n",
        "nome[-1]"
      ],
      "execution_count": null,
      "outputs": []
    },
    {
      "cell_type": "markdown",
      "metadata": {
        "id": "uBz-T_tk5nuV"
      },
      "source": [
        "### Função  `len()`\n",
        "\n",
        "\n",
        "Para saber o tamanho de uma *string*, existe no Python uma função chamada `len()`, que irá sempre retornar um valor do tipo inteiro (`int`). Usá-la é muito simples e direto:"
      ]
    },
    {
      "cell_type": "code",
      "metadata": {
        "id": "QWjKTNXG6B-1"
      },
      "source": [
        "# verificar o tamanho da sequência de um DNA\n",
        "dna = 'ATGCGGACCTAT'\n",
        "\n",
        "len(dna)"
      ],
      "execution_count": null,
      "outputs": []
    },
    {
      "cell_type": "markdown",
      "metadata": {
        "id": "8_8c7E5pM4_D"
      },
      "source": [
        "### Função `split()`\n",
        "\n",
        "A função `split()` serve para você separar *strings* baseando-se em um delimitador. Por exemplo, a variável nome da célula abaixo contém 3 nomes separados por vírgulas.\n",
        "\n",
        "Para eu extrair esses nomes, basta eu executar `nomes.split(',')`, e o Python vai me retornar uma lista com 3 itens.\n",
        "\n",
        "Não se preocupe. O conceito de listas será abordado mais para frente!"
      ]
    },
    {
      "cell_type": "code",
      "metadata": {
        "id": "cHMzFgI1NKD4"
      },
      "source": [
        "nomes = \"Carlos,Fernanda,Theo\"\n",
        "\n",
        "nomes.split(\",\")"
      ],
      "execution_count": null,
      "outputs": []
    },
    {
      "cell_type": "markdown",
      "metadata": {
        "id": "AznUPY6GN2Ef"
      },
      "source": [
        "### Função `replace()`\n",
        "\n",
        "Como o nome já diz, ela serve para substituir caracteres dentro de uma string.\n",
        "\n",
        "Imagine a situação que você importa uma tabela sua do Excel, e os valores monetários estão no sistema brasileiro,ou seja, as casas decimais estão separadas por vírgulas.\n",
        "\n",
        "Se eu quiser converter uma string do tipo `9,50` em um valor numérico, eu tenho que substituir a vírgula pelo ponto:"
      ]
    },
    {
      "cell_type": "code",
      "metadata": {
        "id": "hnan1bvbN6gu"
      },
      "source": [
        "# criando a variável\n",
        "valor = \"9,50\""
      ],
      "execution_count": null,
      "outputs": []
    },
    {
      "cell_type": "code",
      "metadata": {
        "id": "jl4aiAkcOx3q"
      },
      "source": [
        "# trocando a vírgula por ponto\n",
        "float(valor.replace(\",\", \".\"))"
      ],
      "execution_count": null,
      "outputs": []
    },
    {
      "cell_type": "markdown",
      "metadata": {
        "id": "3DXl0egTPKUf"
      },
      "source": [
        "### Função `strip()`\n",
        "\n",
        "Remove ou espaços em branco ou caracteres indesejados. Pode ser usada tanto para remover espaços em branco no começo e final de uma *string*, quanto para remover caracteres indesejados."
      ]
    },
    {
      "cell_type": "code",
      "metadata": {
        "id": "L3WNVdSHPcgR"
      },
      "source": [
        "# criando a variável\n",
        "nome = \"     Carlos Melo     \"\n",
        "\n",
        "# utilizando a função strip\n",
        "nome.strip()"
      ],
      "execution_count": null,
      "outputs": []
    },
    {
      "cell_type": "markdown",
      "metadata": {
        "id": "K-NCdAuzPqCn"
      },
      "source": [
        "Voltando ao exemplo que usei na função `replace()`, imagine que quando você importou seus dados eles virem da seguinte forma: `R$ 9,00`.\n",
        "\n",
        "Se você quiser converter para um número, precisa antes eliminar os caracteres `R$ `"
      ]
    },
    {
      "cell_type": "code",
      "metadata": {
        "id": "WTBVx1_MOxxK"
      },
      "source": [
        "\"R$ 9,50\".strip('R$ ')"
      ],
      "execution_count": null,
      "outputs": []
    },
    {
      "cell_type": "code",
      "metadata": {
        "id": "NNdcdLZaP-J4"
      },
      "source": [
        "\"R$ 9,50\".strip('R$ ').replace(',', '.')"
      ],
      "execution_count": null,
      "outputs": []
    },
    {
      "cell_type": "code",
      "metadata": {
        "id": "2PLQynBSQF-s"
      },
      "source": [
        "float(\"R$ 9,50\".strip('R$ ').replace(',', '.'))"
      ],
      "execution_count": null,
      "outputs": []
    },
    {
      "cell_type": "markdown",
      "metadata": {
        "id": "ySjn4_qerQuV"
      },
      "source": [
        "### Slicing\n",
        "O Python nos permite \"cortar\" as nossas strings, técnica chamada de `slicing`.\n",
        "\n",
        "Como exemplo, vamos usar a variável abaixo"
      ]
    },
    {
      "cell_type": "code",
      "metadata": {
        "id": "T9zSl6dmsKDZ"
      },
      "source": [
        "nome = 'Carlos'"
      ],
      "execution_count": null,
      "outputs": []
    },
    {
      "cell_type": "code",
      "source": [
        "nome[2:4]"
      ],
      "metadata": {
        "id": "0ld1smaPPdGV"
      },
      "execution_count": null,
      "outputs": []
    },
    {
      "cell_type": "code",
      "source": [],
      "metadata": {
        "id": "bqwF5f1GPxax"
      },
      "execution_count": null,
      "outputs": []
    },
    {
      "cell_type": "markdown",
      "metadata": {
        "id": "yLgE_lmMsNr7"
      },
      "source": [
        "Para fazer o slicing, nós chamamos a variável a ser \"fatiada\", e colocamos entre colchetes o index de início e fim, separados por `:`.\n",
        "\n",
        "Lembre-se que a indexação em Python começa no zero, portanto:\n",
        "* [0] - C\n",
        "* [1] - a\n",
        "* [2] - r\n",
        "* [3] - l\n",
        "* [4] - o\n",
        "* [5] - s\n",
        "\n",
        "Também é importante saber que a posição final não é incluída. Ou seja, se chamarmos o slicing da seguinte forma:\n",
        "\n",
        "nome[2:4]\n",
        "\n",
        "teríamos como retorno as letras\n",
        "* [2] - r\n",
        "* [3] - l\n",
        "\n",
        "pois a letra `o` na posição quatro, não é incluída no slicing."
      ]
    },
    {
      "cell_type": "code",
      "metadata": {
        "id": "DbmKmqFtsi2l"
      },
      "source": [
        "# slicing da variável `nome`\n",
        "nome[2:4]"
      ],
      "execution_count": null,
      "outputs": []
    },
    {
      "cell_type": "markdown",
      "metadata": {
        "id": "P4U-VPX_tVKe"
      },
      "source": [
        "Também podemos omitir uma das variáveis, e isso fará que o slicing comece desde o primeiro index, e termine no último."
      ]
    },
    {
      "cell_type": "code",
      "metadata": {
        "id": "Wdayk44ctf_0",
        "colab": {
          "base_uri": "https://localhost:8080/",
          "height": 58
        },
        "outputId": "023dd3d4-9cd5-4f2d-c3a1-61ebc6a77bbc"
      },
      "source": [
        "# slicing do começo ao 4\n",
        "nome[:4]"
      ],
      "execution_count": null,
      "outputs": [
        {
          "output_type": "execute_result",
          "data": {
            "text/plain": [
              "'Carl'"
            ],
            "application/vnd.google.colaboratory.intrinsic+json": {
              "type": "string"
            }
          },
          "metadata": {},
          "execution_count": 58
        }
      ]
    },
    {
      "cell_type": "code",
      "metadata": {
        "id": "dyArnh5StjcO",
        "colab": {
          "base_uri": "https://localhost:8080/",
          "height": 58
        },
        "outputId": "2b846370-bcc4-42e2-bb8e-ae9a88c42f5e"
      },
      "source": [
        "# slicing do 2 ao fim\n",
        "nome[2:]"
      ],
      "execution_count": null,
      "outputs": [
        {
          "output_type": "execute_result",
          "data": {
            "text/plain": [
              "'rlos'"
            ],
            "application/vnd.google.colaboratory.intrinsic+json": {
              "type": "string"
            }
          },
          "metadata": {},
          "execution_count": 59
        }
      ]
    },
    {
      "cell_type": "markdown",
      "metadata": {
        "id": "STzIbrrHtupA"
      },
      "source": [
        "Lembre-se que podemos adicionar as strings. Podemos fazer isso também usando slicing."
      ]
    },
    {
      "cell_type": "code",
      "metadata": {
        "id": "o-bJyr7Ft-tM",
        "colab": {
          "base_uri": "https://localhost:8080/"
        },
        "outputId": "3ce263b2-1cf9-4003-d67b-128d1603fe32"
      },
      "source": [
        "print('Nome Completo: ', nome)\n",
        "print('Primeira parte: ', nome[:3])\n",
        "print('Segunda parte: ', nome[3:])\n",
        "print('Nome feito adicionando Slices: ', nome[:3] + nome[3:])"
      ],
      "execution_count": null,
      "outputs": [
        {
          "output_type": "stream",
          "name": "stdout",
          "text": [
            "Nome Completo:  Carlos\n",
            "Primeira parte:  Car\n",
            "Segunda parte:  los\n",
            "Nome feito adicionando Slices:  Carlos\n"
          ]
        }
      ]
    },
    {
      "cell_type": "markdown",
      "metadata": {
        "id": "k4iZsmTju0FS"
      },
      "source": [
        "Ainda falando de slices, nós também podemos definir um *step*, ou um passo de intervalo, para que os caracteres sejam pulados.\n",
        "\n",
        "Vamos ver como isso funciona na prática."
      ]
    },
    {
      "cell_type": "code",
      "metadata": {
        "id": "6OkCSg7Bt-qS",
        "colab": {
          "base_uri": "https://localhost:8080/"
        },
        "outputId": "2b65a92d-ce1d-4533-b7c2-1cdf9fe259c9"
      },
      "source": [
        "# criando a variável\n",
        "num = 'abcdefghijklmnop'\n",
        "print(num)"
      ],
      "execution_count": null,
      "outputs": [
        {
          "output_type": "stream",
          "name": "stdout",
          "text": [
            "abcdefghijklmnop\n"
          ]
        }
      ]
    },
    {
      "cell_type": "code",
      "source": [
        "num[0:8:2]"
      ],
      "metadata": {
        "colab": {
          "base_uri": "https://localhost:8080/",
          "height": 58
        },
        "id": "rUwKepDIQlMJ",
        "outputId": "86c3eb60-2eef-4093-a207-3ae9029f865a"
      },
      "execution_count": null,
      "outputs": [
        {
          "output_type": "execute_result",
          "data": {
            "text/plain": [
              "'aceg'"
            ],
            "application/vnd.google.colaboratory.intrinsic+json": {
              "type": "string"
            }
          },
          "metadata": {},
          "execution_count": 73
        }
      ]
    },
    {
      "cell_type": "code",
      "source": [
        "num[0:8:1]"
      ],
      "metadata": {
        "colab": {
          "base_uri": "https://localhost:8080/",
          "height": 58
        },
        "id": "CnodYYD0QluI",
        "outputId": "cf2f968a-60bc-449e-fcb2-b4865b83b6c6"
      },
      "execution_count": null,
      "outputs": [
        {
          "output_type": "execute_result",
          "data": {
            "text/plain": [
              "'abcdefgh'"
            ],
            "application/vnd.google.colaboratory.intrinsic+json": {
              "type": "string"
            }
          },
          "metadata": {},
          "execution_count": 71
        }
      ]
    },
    {
      "cell_type": "markdown",
      "metadata": {
        "id": "in6-LXikxWWv"
      },
      "source": [
        "Como temos 27 caracteres, isso significa que nossos índices vão do 0 ao 26, totalizando 27.\n",
        "\n",
        "Podemos usar o slicing para mostrar apenas os números ímpares, por exemplo, basta acrescentar um dígito extra, que é o step.\n",
        "\n",
        "A sintaxe fica da seguinte forma:\n",
        "\n",
        "> variável[*index_início*, *index_final*, *step*]"
      ]
    },
    {
      "cell_type": "code",
      "metadata": {
        "id": "lJCBFto8t-mD"
      },
      "source": [
        "# slicing da variável num, começando do primeiro caractere, indo até o último, em step 2, ou seja\n",
        "# mostra um, pula um\n",
        "num[::2]"
      ],
      "execution_count": null,
      "outputs": []
    },
    {
      "cell_type": "code",
      "metadata": {
        "id": "riDXQdASt-h9"
      },
      "source": [
        "# para visualizarmos os pares, basta começar da posição 2\n",
        "# aqui temos dois `:`, pois indicamos o início, até (:) o final (:) e step 2.\n",
        "num[1::2]"
      ],
      "execution_count": null,
      "outputs": []
    },
    {
      "cell_type": "markdown",
      "metadata": {
        "id": "3fSBvaT60k5Q"
      },
      "source": [
        "### Convertendo Strings\n",
        "\n",
        "Por padrão, podemos usar o Python para converter as strings em maíusculas, minúsculas, etc.\n",
        "\n",
        "Esses processos são bastante úteis ao tratarmos dados em formato string."
      ]
    },
    {
      "cell_type": "code",
      "metadata": {
        "id": "CfQn2sOZ01UQ"
      },
      "source": [
        "# criando a variável a ser manipulada\n",
        "nome = \"josé Santos da Silva\""
      ],
      "execution_count": null,
      "outputs": []
    },
    {
      "cell_type": "code",
      "metadata": {
        "id": "Roz1Iyjfqb05"
      },
      "source": [
        "nome"
      ],
      "execution_count": null,
      "outputs": []
    },
    {
      "cell_type": "markdown",
      "metadata": {
        "id": "t0XYyrvX090s"
      },
      "source": [
        "#### capitalize()\n",
        "\n",
        "Essa função transforma o primeiro caractere em maiúsculo."
      ]
    },
    {
      "cell_type": "code",
      "metadata": {
        "id": "6yxD1ELg1Jha",
        "colab": {
          "base_uri": "https://localhost:8080/",
          "height": 58
        },
        "outputId": "851805d8-4c1c-49c6-ae97-0f140ee87383"
      },
      "source": [
        "# utilizando capitalize\n",
        "nome.capitalize()"
      ],
      "execution_count": null,
      "outputs": [
        {
          "output_type": "execute_result",
          "data": {
            "text/plain": [
              "'Carlos'"
            ],
            "application/vnd.google.colaboratory.intrinsic+json": {
              "type": "string"
            }
          },
          "metadata": {},
          "execution_count": 74
        }
      ]
    },
    {
      "cell_type": "markdown",
      "metadata": {
        "id": "qcT6MGNM1NbB"
      },
      "source": [
        "#### lower()\n",
        "Essa função transforma todos os caracteres em minúsculo."
      ]
    },
    {
      "cell_type": "code",
      "metadata": {
        "id": "DFVQ5WHd1T6G",
        "colab": {
          "base_uri": "https://localhost:8080/",
          "height": 58
        },
        "outputId": "d11782fd-8d1a-4c93-a284-6c61197f5973"
      },
      "source": [
        "# utilizando lower\n",
        "nome.lower()"
      ],
      "execution_count": null,
      "outputs": [
        {
          "output_type": "execute_result",
          "data": {
            "text/plain": [
              "'carlos'"
            ],
            "application/vnd.google.colaboratory.intrinsic+json": {
              "type": "string"
            }
          },
          "metadata": {},
          "execution_count": 75
        }
      ]
    },
    {
      "cell_type": "markdown",
      "metadata": {
        "id": "UKhq2br-1Wbh"
      },
      "source": [
        "#### upper()\n",
        "Para tornar todas maiúsculas, basta usar essa função."
      ]
    },
    {
      "cell_type": "code",
      "metadata": {
        "id": "VNXRV0Hi1f56",
        "colab": {
          "base_uri": "https://localhost:8080/",
          "height": 58
        },
        "outputId": "cc2fc684-f730-4c45-9362-2d18c7ec04fb"
      },
      "source": [
        "# utilizando upper\n",
        "nome.upper()"
      ],
      "execution_count": null,
      "outputs": [
        {
          "output_type": "execute_result",
          "data": {
            "text/plain": [
              "'CARLOS'"
            ],
            "application/vnd.google.colaboratory.intrinsic+json": {
              "type": "string"
            }
          },
          "metadata": {},
          "execution_count": 76
        }
      ]
    },
    {
      "cell_type": "markdown",
      "metadata": {
        "id": "_u6ERCaH1ieJ"
      },
      "source": [
        "#### title()\n",
        "Essa função transforma a primeira letra de cada palavra em maiúscula."
      ]
    },
    {
      "cell_type": "code",
      "metadata": {
        "id": "g0UGyX6Q1h1g"
      },
      "source": [
        "# utilizando title\n",
        "nome.title()"
      ],
      "execution_count": null,
      "outputs": []
    },
    {
      "cell_type": "markdown",
      "metadata": {
        "id": "yggT9_7N1ts6"
      },
      "source": [
        "#### swapcase()\n",
        "Aqui iremos inverter as coisas, transformando maiúsculas em minúsculas, e vice-versa."
      ]
    },
    {
      "cell_type": "code",
      "metadata": {
        "id": "O7kkYBfR11xA"
      },
      "source": [
        "# utilizando swapcase\n",
        "nome.swapcase()"
      ],
      "execution_count": null,
      "outputs": []
    },
    {
      "cell_type": "markdown",
      "metadata": {
        "id": "vSoPOrap6xE1"
      },
      "source": [
        "## Exercícios\n",
        "\n",
        "<center><img width=\"50%\" src=\"https://image.freepik.com/free-photo/coding-man_1098-18084.jpg\n",
        "\"></center>"
      ]
    },
    {
      "cell_type": "markdown",
      "metadata": {
        "id": "KD1ufBnNqEOw"
      },
      "source": [
        "### Exercício 1\n",
        "\n",
        "Escreva seu nome e sobrenome, como nos exemplos acima, e imprima ele na tela usando a função `print()`:"
      ]
    },
    {
      "cell_type": "code",
      "metadata": {
        "id": "ehkKyhU_60_3"
      },
      "source": [
        "# resposta\n"
      ],
      "execution_count": null,
      "outputs": []
    },
    {
      "cell_type": "code",
      "metadata": {
        "id": "O6btoUeVqPKI",
        "cellView": "form"
      },
      "source": [
        "#@title Solução\n",
        "print(\"Carlos Melo\")"
      ],
      "execution_count": null,
      "outputs": []
    },
    {
      "cell_type": "markdown",
      "metadata": {
        "id": "HfLGXzjN7AuR"
      },
      "source": [
        "### Exercícios 2\n",
        "Verifique o tamanho da *string* da variável sha1_hash abaixo:"
      ]
    },
    {
      "cell_type": "code",
      "metadata": {
        "id": "7ptSvRIL7FYw"
      },
      "source": [
        "sha1_hash = \"b91552e0b2b2183e85a4371020ab6b9f4ef83ed0\""
      ],
      "execution_count": null,
      "outputs": []
    },
    {
      "cell_type": "code",
      "metadata": {
        "id": "iwfqlKiPqoMv"
      },
      "source": [
        "# resposta\n"
      ],
      "execution_count": null,
      "outputs": []
    },
    {
      "cell_type": "code",
      "metadata": {
        "id": "B5dSSOkeqw70",
        "cellView": "form"
      },
      "source": [
        "#@title Solução\n",
        "len(sha1_hash)"
      ],
      "execution_count": null,
      "outputs": []
    },
    {
      "cell_type": "markdown",
      "metadata": {
        "id": "WFCUMU5m8LU7"
      },
      "source": [
        "### Exercício 3\n",
        "\n",
        "Converta a string `85,00 Kg` em uma variável do tipo float."
      ]
    },
    {
      "cell_type": "code",
      "metadata": {
        "id": "2h8-qUKl7F2K"
      },
      "source": [
        "# resposta\n"
      ],
      "execution_count": null,
      "outputs": []
    },
    {
      "cell_type": "code",
      "metadata": {
        "id": "2LCRKm172RTk",
        "cellView": "form"
      },
      "source": [
        "#@title Solução\n",
        "float('85,00 Kg'.strip(' Kg').replace(',', '.'))\n"
      ],
      "execution_count": null,
      "outputs": []
    },
    {
      "cell_type": "markdown",
      "metadata": {
        "id": "EImg6boX21Nt"
      },
      "source": [
        "#### Exercício 4\n",
        "\n",
        "Faça o que se pede com a variável em cada uma das células abaixo\n"
      ]
    },
    {
      "cell_type": "code",
      "metadata": {
        "id": "X-J6my5M2aI8"
      },
      "source": [
        "# criando a variável\n",
        "x = 'Data, Science, é, demais!'\n"
      ],
      "execution_count": null,
      "outputs": []
    },
    {
      "cell_type": "code",
      "metadata": {
        "id": "1yZ7sX2A20Z_"
      },
      "source": [
        "# a) imprima a quantidade de caracteres na variável x\n"
      ],
      "execution_count": null,
      "outputs": []
    },
    {
      "cell_type": "code",
      "metadata": {
        "id": "huRSUpiF3P-2"
      },
      "source": [
        "# b) retire as vírgulas da variável\n"
      ],
      "execution_count": null,
      "outputs": []
    },
    {
      "cell_type": "code",
      "metadata": {
        "id": "jlNekZmR3TXF"
      },
      "source": [
        "# c) imprima apenas os 6 primeiros caracteres da variável\n"
      ],
      "execution_count": null,
      "outputs": []
    },
    {
      "cell_type": "code",
      "metadata": {
        "id": "y8vxWdu03Z-u"
      },
      "source": [
        "# d) imprima todos os caracteres, mostrando um e pulando um\n"
      ],
      "execution_count": null,
      "outputs": []
    },
    {
      "cell_type": "code",
      "metadata": {
        "id": "Af-uSrbH3fjV"
      },
      "source": [
        "# e) transforme todas as letras em maiúsculas\n"
      ],
      "execution_count": null,
      "outputs": []
    },
    {
      "cell_type": "code",
      "metadata": {
        "id": "XbpQ7psZ3iqf"
      },
      "source": [
        "# f) transforme todas as letras em minúsculas\n"
      ],
      "execution_count": null,
      "outputs": []
    },
    {
      "cell_type": "code",
      "metadata": {
        "id": "2uG4HVX63l1W",
        "cellView": "form"
      },
      "source": [
        "#@title Solução\n",
        "print(x)\n",
        "# a)\n",
        "print(len(x))\n",
        "\n",
        "# b)\n",
        "x = x.replace(',', '')\n",
        "print(x)\n",
        "\n",
        "# c)\n",
        "print(x[:6])\n",
        "\n",
        "# d)\n",
        "print(x[::2])\n",
        "\n",
        "# e)\n",
        "print(x.upper())\n",
        "\n",
        "# f)\n",
        "print(x.lower())"
      ],
      "execution_count": null,
      "outputs": []
    }
  ]
}