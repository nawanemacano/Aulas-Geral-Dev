{
  "nbformat": 4,
  "nbformat_minor": 0,
  "metadata": {
    "colab": {
      "provenance": [],
      "authorship_tag": "ABX9TyMcAvRGuRnlWu5xCb2qn1Gx",
      "include_colab_link": true
    },
    "kernelspec": {
      "name": "python3",
      "display_name": "Python 3"
    },
    "language_info": {
      "name": "python"
    }
  },
  "cells": [
    {
      "cell_type": "markdown",
      "metadata": {
        "id": "view-in-github",
        "colab_type": "text"
      },
      "source": [
        "<a href=\"https://colab.research.google.com/github/nawanemacano/Aulas-Geral-Dev/blob/main/Estrutura_Python.ipynb\" target=\"_parent\"><img src=\"https://colab.research.google.com/assets/colab-badge.svg\" alt=\"Open In Colab\"/></a>"
      ]
    },
    {
      "cell_type": "markdown",
      "source": [
        "A estrutura base de um código em Python geralmente inclui a definição de funções, declaração de variáveis e a execução do código dentro de um bloco principal. Por exemplo:"
      ],
      "metadata": {
        "id": "moXoAGTPKaO1"
      }
    },
    {
      "cell_type": "code",
      "execution_count": null,
      "metadata": {
        "id": "ZMIdXsxTIcuO"
      },
      "outputs": [],
      "source": [
        "# Declaração de funções\n",
        "def minha_funcao(parametro):\n",
        "    # Corpo da função\n",
        "\n",
        "# Declaração de variáveis\n",
        "minha_variavel = 10\n",
        "\n",
        "# Bloco principal\n",
        "if __name__ == \"__main__\":\n",
        "    # Código a ser executado\n",
        "    resultado = minha_funcao(minha_variavel)\n",
        "    print(resultado)"
      ]
    },
    {
      "cell_type": "markdown",
      "source": [
        "**Declaração de Funções:**\n",
        "\n",
        "def: Palavra-chave para definir uma função.\n",
        "minha_funcao: Nome da função.\n",
        "(parametro): Parâmetro que a função pode aceitar.\n",
        "\n"
      ],
      "metadata": {
        "id": "cBTpjYOHKg5P"
      }
    },
    {
      "cell_type": "code",
      "source": [
        "def minha_funcao(parametro):\n",
        "    # Corpo da função"
      ],
      "metadata": {
        "id": "IVfRCUlPKrKq"
      },
      "execution_count": null,
      "outputs": []
    },
    {
      "cell_type": "markdown",
      "source": [
        "**Declaração de Variáveis:**\n",
        "\n",
        "minha_variavel: Nome da variável.\n",
        "\n",
        "=: Atribuição, associando um valor (neste caso, 10) à variável."
      ],
      "metadata": {
        "id": "4Y4jQUoXKsTJ"
      }
    },
    {
      "cell_type": "code",
      "source": [
        "minha_variavel = 10"
      ],
      "metadata": {
        "id": "NJxDzzrzK0J2"
      },
      "execution_count": null,
      "outputs": []
    },
    {
      "cell_type": "markdown",
      "source": [
        "**Bloco Principal:**\n",
        "\n",
        "if __name__ == \"__main__\":: Garante que o bloco de código abaixo seja executado apenas se este script estiver sendo executado como o programa principal.\n",
        "resultado = minha_funcao(minha_variavel): Chamada da função minha_funcao com a variável minha_variavel como argumento, atribuindo o resultado à variável resultado.\n",
        "print(resultado): Exibe o resultado na saída padrão."
      ],
      "metadata": {
        "id": "MDvA4X0yK2lh"
      }
    },
    {
      "cell_type": "code",
      "source": [
        "if __name__ == \"__main__\":\n",
        "    # Código a ser executado\n",
        "    resultado = minha_funcao(minha_variavel)\n",
        "    print(resultado)"
      ],
      "metadata": {
        "id": "zqlA8syRK_fK"
      },
      "execution_count": null,
      "outputs": []
    },
    {
      "cell_type": "markdown",
      "source": [
        "**Condições:**\n",
        "\n",
        "Estrutura Condicional (if, elif, else):\n",
        "\n",
        "if: Verifica se uma condição é verdadeira.\n",
        "elif: Condição a ser verificada se a condição do if for falsa.\n",
        "else: Bloco executado se nenhuma condição anterior for verdadeira.\n",
        "Exemplo:"
      ],
      "metadata": {
        "id": "5kRM1mXwLL04"
      }
    },
    {
      "cell_type": "code",
      "source": [
        "idade = 18\n",
        "if idade >= 18:\n",
        "    print(\"Você é maior de idade.\")\n",
        "else:\n",
        "    print(\"Você é menor de idade.\")"
      ],
      "metadata": {
        "id": "fpP9c-TbLOou"
      },
      "execution_count": null,
      "outputs": []
    },
    {
      "cell_type": "markdown",
      "source": [
        "**Operadores Lógicos (and, or, not):**\n",
        "\n",
        "and: Retorna True se ambas as condições forem verdadeiras.\n",
        "\n",
        "or: Retorna True se pelo menos uma condição for verdadeira.\n",
        "\n",
        "not: Inverte o valor da condição.\n",
        "\n",
        "Exemplo:"
      ],
      "metadata": {
        "id": "kw7Z19mgLRDB"
      }
    },
    {
      "cell_type": "code",
      "source": [
        "if idade >= 18 and idade <= 60:\n",
        "    print(\"Você é um adulto.\")"
      ],
      "metadata": {
        "id": "CxgUpri2LXaY"
      },
      "execution_count": null,
      "outputs": []
    }
  ]
}