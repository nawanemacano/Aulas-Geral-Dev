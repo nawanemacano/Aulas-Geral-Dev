{
  "nbformat": 4,
  "nbformat_minor": 0,
  "metadata": {
    "colab": {
      "provenance": [],
      "include_colab_link": true
    },
    "kernelspec": {
      "name": "python3",
      "display_name": "Python 3"
    }
  },
  "cells": [
    {
      "cell_type": "markdown",
      "metadata": {
        "id": "view-in-github",
        "colab_type": "text"
      },
      "source": [
        "<a href=\"https://colab.research.google.com/github/nawanemacano/Aulas-Geral-Dev/blob/main/%5BMPDZ%5D_M%C3%B3dulo_2_Biblioteca_PDF_Plumber.ipynb\" target=\"_parent\"><img src=\"https://colab.research.google.com/assets/colab-badge.svg\" alt=\"Open In Colab\"/></a>"
      ]
    },
    {
      "cell_type": "markdown",
      "metadata": {
        "id": "ZiW5N3JAtjIz"
      },
      "source": [
        "<img alt=\"Colaboratory logo\" width=\"15%\" src=\"https://raw.githubusercontent.com/carlosfab/escola-data-science/master/img/novo_logo_bg_claro.png\">\n",
        "\n",
        "#### **Python do Zero**\n",
        "*by [sigmoidal.ai](https://sigmoidal.ai)*\n",
        "\n",
        "---\n",
        "\n",
        "## Biblioteca PDF Plumber\n",
        "\n",
        "Em nossa rotina de trabalho é muito comum termos que lidar com arquivos no formato PDF. Criamos, editamos, acessamos e compartilhamos arquivos nesse formato, que muitas vezes, fazem parte de nossas atividades primordiais na empresa.\n",
        "\n",
        "\n",
        "<center><img width=\"50%\" src=\"https://image.freepik.com/free-vector/group-people-working-together_52683-28615.jpg\"></center>\n",
        "\n",
        "Com essa biblioteca de Python, será possível facilitar esse processo. A biblioteca [PDF Plumber](https://github.com/jsvine/pdfplumber) possui uma grande gama de funções e argumentos, e aqui nós vamos começar a nos aventurar com essas funções.\n",
        "\n",
        "Para isso, vamos precisar fazer o download do pdf de apoio que foi disponibilizado como material complementar dessa aula. Você pode upar o arquivo diretamente na aba de arquivos à esquerda do seu navegador, e acessá-lo por lá.\n",
        "\n",
        "Entretanto, vamos fazer um processo mais robusto, e nos acostumar a montar e acessar nosso Google Drive, pois esse processo vai facilitar a nossa vida quando formos lidar com mais arquivos de uma vez.\n",
        "\n",
        "Outro detalhe importante é que, nativamente, o Google Colab não possui essa biblioteca instalada, então nós precisamos instalar a mesma no nosso ambiente.\n",
        "\n",
        "Para isso, vamos utilizar o gerenciador de pacotes `pip`, e com o comando `install` vamos instalar a biblioteca.\n",
        "\n"
      ]
    },
    {
      "cell_type": "code",
      "metadata": {
        "id": "F4_oeGhjt4y8",
        "colab": {
          "base_uri": "https://localhost:8080/",
          "height": 419
        },
        "outputId": "4c0274d1-9d99-4bf8-e81b-998e129b4f9a"
      },
      "source": [
        "# instalando a biblioteca\n",
        "!pip install pdfplumber"
      ],
      "execution_count": null,
      "outputs": [
        {
          "output_type": "stream",
          "text": [
            "Collecting pdfplumber\n",
            "  Downloading https://files.pythonhosted.org/packages/2c/06/eb883f00ea3d78a2f860c593645498c39120f763d30b099cc98c4392b312/pdfplumber-0.5.23.tar.gz\n",
            "Collecting pdfminer.six==20200517\n",
            "\u001b[?25l  Downloading https://files.pythonhosted.org/packages/b0/c0/ef1c8758bbd86edb10b5443700aac97d0ba27a9ca2e7696db8cd1fdbd5a8/pdfminer.six-20200517-py3-none-any.whl (5.6MB)\n",
            "\u001b[K     |████████████████████████████████| 5.6MB 6.4MB/s \n",
            "\u001b[?25hRequirement already satisfied: Pillow>=7.0.0 in /usr/local/lib/python3.6/dist-packages (from pdfplumber) (7.0.0)\n",
            "Collecting Wand\n",
            "\u001b[?25l  Downloading https://files.pythonhosted.org/packages/82/e4/d00cdc270cad06a2dd2d3095ffe0f6541d69104db504c4e94de805e3c6e0/Wand-0.6.2-py2.py3-none-any.whl (130kB)\n",
            "\u001b[K     |████████████████████████████████| 133kB 41.1MB/s \n",
            "\u001b[?25hRequirement already satisfied: sortedcontainers in /usr/local/lib/python3.6/dist-packages (from pdfminer.six==20200517->pdfplumber) (2.2.2)\n",
            "Requirement already satisfied: chardet; python_version > \"3.0\" in /usr/local/lib/python3.6/dist-packages (from pdfminer.six==20200517->pdfplumber) (3.0.4)\n",
            "Collecting pycryptodome\n",
            "\u001b[?25l  Downloading https://files.pythonhosted.org/packages/17/55/17fa0b55849dc135f7bc400993a9206bf06d1b5d9520b0bc8d47c57aaef5/pycryptodome-3.9.8-cp36-cp36m-manylinux1_x86_64.whl (13.7MB)\n",
            "\u001b[K     |████████████████████████████████| 13.7MB 294kB/s \n",
            "\u001b[?25hBuilding wheels for collected packages: pdfplumber\n",
            "  Building wheel for pdfplumber (setup.py) ... \u001b[?25l\u001b[?25hdone\n",
            "  Created wheel for pdfplumber: filename=pdfplumber-0.5.23-cp36-none-any.whl size=29176 sha256=206dd3c108edff21e3274e0e07687ada9bc0c1181b0e3a7b51c3aa0cfd8bcffe\n",
            "  Stored in directory: /root/.cache/pip/wheels/f6/4d/ae/abb7b92fbed5d09a835c259f26d2a3223ea929a0ad6d322097\n",
            "Successfully built pdfplumber\n",
            "Installing collected packages: pycryptodome, pdfminer.six, Wand, pdfplumber\n",
            "Successfully installed Wand-0.6.2 pdfminer.six-20200517 pdfplumber-0.5.23 pycryptodome-3.9.8\n"
          ],
          "name": "stdout"
        }
      ]
    },
    {
      "cell_type": "markdown",
      "metadata": {
        "id": "7x-0TWdK2JYb"
      },
      "source": [
        "Agora que a biblioteca foi instalada, basta fazer a importação, e usar.\n",
        "\n",
        "Para essa aula, precisaremos importar também a biblioteca `os` para manipular os arquivos, e o `drive` para montar e acessar nosso Google Drive."
      ]
    },
    {
      "cell_type": "code",
      "metadata": {
        "id": "DewqL6GNtUqa"
      },
      "source": [
        "# importando os pacotes necessários\n",
        "import pdfplumber\n",
        "import os\n",
        "from google.colab import drive"
      ],
      "execution_count": null,
      "outputs": []
    },
    {
      "cell_type": "markdown",
      "metadata": {
        "id": "qlKWfvfa2Ytr"
      },
      "source": [
        "Pronto! Agora é só montar nosso drive e buscar os arquivos."
      ]
    },
    {
      "cell_type": "code",
      "metadata": {
        "id": "SSvr3THEuDSW",
        "colab": {
          "base_uri": "https://localhost:8080/",
          "height": 128
        },
        "outputId": "e20b5af4-3188-4bd5-a877-a2215a241e5b"
      },
      "source": [
        "# montando o drive\n",
        "drive.mount('/content/gdrive')"
      ],
      "execution_count": null,
      "outputs": [
        {
          "output_type": "stream",
          "text": [
            "Go to this URL in a browser: https://accounts.google.com/o/oauth2/auth?client_id=947318989803-6bn6qk8qdgf4n4g3pfee6491hc0brc4i.apps.googleusercontent.com&redirect_uri=urn%3aietf%3awg%3aoauth%3a2.0%3aoob&scope=email%20https%3a%2f%2fwww.googleapis.com%2fauth%2fdocs.test%20https%3a%2f%2fwww.googleapis.com%2fauth%2fdrive%20https%3a%2f%2fwww.googleapis.com%2fauth%2fdrive.photos.readonly%20https%3a%2f%2fwww.googleapis.com%2fauth%2fpeopleapi.readonly&response_type=code\n",
            "\n",
            "Enter your authorization code:\n",
            "··········\n",
            "Mounted at /content/gdrive\n"
          ],
          "name": "stdout"
        }
      ]
    },
    {
      "cell_type": "markdown",
      "metadata": {
        "id": "hUIKa2iH2fvd"
      },
      "source": [
        "Verificando o conteúdo do nosso drive, podemos ver que o arquivo `modelo_de_relatorio.pdf` está lá, pronto para ser usado.\n",
        "\n",
        "Vamos carregá-lo e ver como essa biblioteca funciona na prática."
      ]
    },
    {
      "cell_type": "code",
      "metadata": {
        "id": "004L1AYOuSgT"
      },
      "source": [
        "# verificando o conteúdo do drive\n",
        "!ls '/content/gdrive/My Drive'"
      ],
      "execution_count": null,
      "outputs": []
    },
    {
      "cell_type": "markdown",
      "metadata": {
        "id": "7IO7R0kl3Gva"
      },
      "source": [
        "### pdfplumber.open()\n",
        "\n",
        "Para abrir um arquivo, vamos associá-lo a uma variável, para que ele possa ser facilmente acessado depois.\n",
        "\n",
        "Utilizamos o comando `pdfplumber.open('caminho/do/meu/arquivo')` com o caminho do arquivo dentro dos parênteses, dentro de aspas, simples ou duplas."
      ]
    },
    {
      "cell_type": "code",
      "metadata": {
        "id": "hdp90dsGucY6"
      },
      "source": [
        "# abrindo o documento\n",
        "pdf = pdfplumber.open('/content/gdrive/My Drive/modelo_de_relatorio.pdf')"
      ],
      "execution_count": null,
      "outputs": []
    },
    {
      "cell_type": "markdown",
      "metadata": {
        "id": "XFKTVq6l4Fc5"
      },
      "source": [
        "### pages\n",
        "Para acessar as páginas existentes no arquivo, utilizamos a função `pages`.\n",
        "\n",
        "Ela retorna uma lista com as páginas do arquivo."
      ]
    },
    {
      "cell_type": "code",
      "metadata": {
        "id": "gqZKbdiqusij",
        "colab": {
          "base_uri": "https://localhost:8080/",
          "height": 35
        },
        "outputId": "0bb5f122-9129-448c-c8b1-2ff0aa34712b"
      },
      "source": [
        "# ver o número de páginas do pdf:\n",
        "pdf.pages"
      ],
      "execution_count": null,
      "outputs": [
        {
          "output_type": "execute_result",
          "data": {
            "text/plain": [
              "[<Page:1>, <Page:2>, <Page:3>]"
            ]
          },
          "metadata": {
            "tags": []
          },
          "execution_count": 12
        }
      ]
    },
    {
      "cell_type": "markdown",
      "metadata": {
        "id": "djmfxiee4R72"
      },
      "source": [
        "Ao fazer qualquer manipulação, precisamos sempre identificar a página em que isso está acontecendo, mesmo que o documento possua apenas uma página.\n",
        "\n",
        "Para isso, utilizaremos a função `pages`, passando como argumento o número da página que desejamos manipular, lembrando sempre que começamos a contar a partir do 0."
      ]
    },
    {
      "cell_type": "code",
      "metadata": {
        "id": "5XJYSrMNuw5r",
        "colab": {
          "base_uri": "https://localhost:8080/",
          "height": 35
        },
        "outputId": "8b4db713-eb67-4be9-d9cc-1b0ccd4feec7"
      },
      "source": [
        "# selecionando uma página\n",
        "page = pdf.pages[0]\n",
        "page"
      ],
      "execution_count": null,
      "outputs": [
        {
          "output_type": "execute_result",
          "data": {
            "text/plain": [
              "<Page:1>"
            ]
          },
          "metadata": {
            "tags": []
          },
          "execution_count": 13
        }
      ]
    },
    {
      "cell_type": "markdown",
      "metadata": {
        "id": "RABL6kKm45HV"
      },
      "source": [
        "### metadata\n",
        "Metadados, de forma simples, são dados sobre outros dados. No nosso caso, são dados sobre o nosso arquivo, como o autor, data de criação, palavras chaves, título, etc.\n",
        "\n",
        "É possível extrair esses dados sobre nossos arquivos com facilidade usando a função `metadata` do pdfplumber."
      ]
    },
    {
      "cell_type": "code",
      "metadata": {
        "id": "ItMVvZ6ovhfZ",
        "colab": {
          "base_uri": "https://localhost:8080/",
          "height": 235
        },
        "outputId": "39ef64eb-5b3b-47f0-9053-d934133a22bd"
      },
      "source": [
        "# coletando os metadados do arquivo\n",
        "pdf.metadata"
      ],
      "execution_count": null,
      "outputs": [
        {
          "output_type": "execute_result",
          "data": {
            "text/plain": [
              "{'AssetID': 'TF10002026',\n",
              " 'Author': 'Carlos Melo',\n",
              " 'Comments': '',\n",
              " 'Company': '',\n",
              " 'CreationDate': 'D:20200831180053Z',\n",
              " 'Creator': 'Acrobat PDFMaker 20 for Word',\n",
              " 'Keywords': 'report, vendas, sigmoidal, diário, relatório',\n",
              " 'ModDate': \"D:20200831150159-03'00'\",\n",
              " 'Producer': 'Adobe PDF Library 20.9.95',\n",
              " 'SourceModified': 'D:20200831180051',\n",
              " 'Subject': 'Template para relatório diário',\n",
              " 'Title': 'Relatório Sigmoidal'}"
            ]
          },
          "metadata": {
            "tags": []
          },
          "execution_count": 22
        }
      ]
    },
    {
      "cell_type": "markdown",
      "metadata": {
        "id": "oNOiwASS509V"
      },
      "source": [
        "### extract_text()\n",
        "\n",
        "No fim das contas, estamos interessados mesmo é no conteúdo do nosso arquivo, e isso também pode ser facilmente extraído utilizando o pdfplumber, através da função `extract_text()` que funciona no nível da página.\n",
        "\n",
        "Aqui, precisamos ter extraído a página que iremos trabalhar, e vamos associar a uma variável o resultado da execução da função `extract_text()` sobre a página. Depois, é só imprimir."
      ]
    },
    {
      "cell_type": "code",
      "metadata": {
        "id": "qPbRqtZ7u7R5"
      },
      "source": [
        "# extraindo o texto do arquivo\n",
        "text = page.extract_text()\n",
        "print(text)"
      ],
      "execution_count": null,
      "outputs": []
    },
    {
      "cell_type": "code",
      "metadata": {
        "id": "oSxpc0wLxXP1",
        "colab": {
          "base_uri": "https://localhost:8080/",
          "height": 126
        },
        "outputId": "ca3454cb-16d3-47f4-f2b2-b59bf2414a3a"
      },
      "source": [
        "page.extract_text()"
      ],
      "execution_count": null,
      "outputs": [
        {
          "output_type": "execute_result",
          "data": {
            "application/vnd.google.colaboratory.intrinsic+json": {
              "type": "string"
            },
            "text/plain": [
              "'SIGMOIDAL \\n   \\nRelatório Diário \\n \\nData: 10/08/2020 \\n \\nRECEITA: R$ 1.397,00 \\nDADOS ATUALIZADOS POR CARLOS MELO\\n \\n \\n Visitantes: 1367 \\nA quantidade de visitantes diz respeito a visitantes únicos visitando qualquer \\npágina do domínio ou subdomínio sigmoidal.ai. Compreende, então, cursos, \\nblogs e landing pages. \\n Inscritos: 33 \\nÉ considerado aqui o número de leads gerados por meio de cadastro \\nvoluntário nos formulários do cabeçalho, rodapé ou materiais ricos (como \\neBook, infográficos, entre outros). \\n Assinantes: 6 \\nClientes assinantes da Escola de Data Science, considerando-se o plano \\nrenovável de assinatura mensal. \\n \\n '"
            ]
          },
          "metadata": {
            "tags": []
          },
          "execution_count": 15
        }
      ]
    },
    {
      "cell_type": "code",
      "metadata": {
        "id": "R9r5pdRl5ROK"
      },
      "source": [],
      "execution_count": null,
      "outputs": []
    }
  ]
}